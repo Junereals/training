{
  "nbformat": 4,
  "nbformat_minor": 0,
  "metadata": {
    "colab": {
      "provenance": [],
      "authorship_tag": "ABX9TyOMMbKJQ0zlI99cG6q1ztAv",
      "include_colab_link": true
    },
    "kernelspec": {
      "name": "python3",
      "display_name": "Python 3"
    },
    "language_info": {
      "name": "python"
    }
  },
  "cells": [
    {
      "cell_type": "markdown",
      "metadata": {
        "id": "view-in-github",
        "colab_type": "text"
      },
      "source": [
        "<a href=\"https://colab.research.google.com/github/Junereals/training/blob/main/ChemProjects1-5.ipynb\" target=\"_parent\"><img src=\"https://colab.research.google.com/assets/colab-badge.svg\" alt=\"Open In Colab\"/></a>"
      ]
    },
    {
      "cell_type": "markdown",
      "source": [
        "# Project 1.\n"
      ],
      "metadata": {
        "id": "l-9iEVcgVH2h"
      }
    },
    {
      "cell_type": "markdown",
      "source": [
        "\n",
        "---\n",
        "Molecular weight from formula.\n",
        "\n",
        "Input: str with molecular formula\n",
        "\n",
        "Output: its molecular weight"
      ],
      "metadata": {
        "id": "vTl6M8AEg1Df"
      }
    },
    {
      "cell_type": "code",
      "source": [
        "import pandas\n",
        "import re"
      ],
      "metadata": {
        "id": "t47lBZBRt59T"
      },
      "execution_count": 162,
      "outputs": []
    },
    {
      "cell_type": "markdown",
      "source": [
        "Using re pattern finding function, created dictionary with atoms as keys and number of atoms as values:"
      ],
      "metadata": {
        "id": "FGxGl9fxdZUN"
      }
    },
    {
      "cell_type": "code",
      "source": [
        "mol = input()\n",
        "atoms_with_numbers = re.findall(r'([A-Z][a-z]*)(\\d*)',mol)\n",
        "mols = {}\n",
        "for atoms, numbers in atoms_with_numbers:\n",
        "  if atoms:\n",
        "    mols[atoms]= mols.get(atoms,0)+int(numbers) if numbers!='' else mols.get(atoms,0)+1"
      ],
      "metadata": {
        "colab": {
          "base_uri": "https://localhost:8080/"
        },
        "id": "FyK7PkMrBsME",
        "outputId": "b2303733-7c95-45cf-b8ea-dee789e7a824"
      },
      "execution_count": 163,
      "outputs": [
        {
          "name": "stdout",
          "output_type": "stream",
          "text": [
            "NaClO3\n"
          ]
        }
      ]
    },
    {
      "cell_type": "markdown",
      "source": [
        "Parsing dataframe from article with a table containing atom weights using pandas function and assigning index to atoms:"
      ],
      "metadata": {
        "id": "Divg_Lh2X2aT"
      }
    },
    {
      "cell_type": "code",
      "source": [
        "atom_weight = pandas.DataFrame(*pandas.read_html('https://www.tdsm.ru/article/view/okruglennye-znacenia-otnositelnyh-atomnyh-mass-himiceskih-elementov'))\n",
        "atom_weight = atom_weight[atom_weight.index!=0]\n",
        "atom_weight.index=atom_weight[0]\n",
        "atom_weight=pandas.DataFrame(atom_weight[2],index=atom_weight.index)\n",
        "atom_weight.columns = ['weight']"
      ],
      "metadata": {
        "id": "jEcRxL9YRUw1"
      },
      "execution_count": 164,
      "outputs": []
    },
    {
      "cell_type": "markdown",
      "source": [
        "Summed up the atom weights by the amounts, the result is rounded to 1 digit"
      ],
      "metadata": {
        "id": "hYSRRmvNd27S"
      }
    },
    {
      "cell_type": "code",
      "source": [
        "sum = 0\n",
        "for atom, number in mols.items():\n",
        "  sum +=int(atom_weight['weight'][atom])/1000*number\n",
        "print(round(sum,1))"
      ],
      "metadata": {
        "colab": {
          "base_uri": "https://localhost:8080/"
        },
        "id": "GN0UEmuaTTvm",
        "outputId": "45739830-56ed-4946-997b-8eb0bf2d9240"
      },
      "execution_count": 165,
      "outputs": [
        {
          "output_type": "stream",
          "name": "stdout",
          "text": [
            "106.4\n"
          ]
        }
      ]
    },
    {
      "cell_type": "markdown",
      "source": [
        "# Project 2."
      ],
      "metadata": {
        "id": "OPdLMfCVU3DP"
      }
    },
    {
      "cell_type": "markdown",
      "source": [
        "\n",
        "\n",
        "---\n",
        "Chemical reaction balancer.\n",
        "\n",
        "Input: reaction \"a + b + ... + n = A + ... + N\"\n",
        "\n",
        "Output: reaction with the correct balance"
      ],
      "metadata": {
        "id": "Zj5VyV4NdWba"
      }
    },
    {
      "cell_type": "markdown",
      "source": [
        "Let's convert parsing of the str molecular formula into the function we can use:"
      ],
      "metadata": {
        "id": "cfBNaDk2hb8e"
      }
    },
    {
      "cell_type": "code",
      "source": [
        "import re\n",
        "def atoms_from_str(molecule: str):\n",
        "  atoms_with_numbers = re.findall(r'([A-Z][a-z]*)(\\d*)',molecule)\n",
        "  mols = {}\n",
        "  for atoms, numbers in atoms_with_numbers:\n",
        "    if atoms:\n",
        "     mols[atoms]= mols.get(atoms,0)+int(numbers) if numbers!='' else mols.get(atoms,0)+1\n",
        "  return mols"
      ],
      "metadata": {
        "id": "gTw75aYEgdYY"
      },
      "execution_count": 156,
      "outputs": []
    },
    {
      "cell_type": "markdown",
      "source": [
        "Input gives us reaction in the pattern of \"mol1 + mol2 + ... + moln = Mol1 + Mol2 + ... + Moln\". To balance that, we must count the amount of atoms on the right and left side and look for the minimal indexes to make them equal."
      ],
      "metadata": {
        "id": "_LjOdSVHiWfm"
      }
    },
    {
      "cell_type": "code",
      "source": [
        "reaction = input()\n",
        "left_side, right_side =[i.split(' + ') for i in reaction.split(' = ')]\n"
      ],
      "metadata": {
        "colab": {
          "base_uri": "https://localhost:8080/"
        },
        "id": "k90uV-Y_iWE3",
        "outputId": "c295fe1d-f239-4ace-b4ac-35304b971142"
      },
      "execution_count": 157,
      "outputs": [
        {
          "name": "stdout",
          "output_type": "stream",
          "text": [
            "Cl2 + NaOH = H2O + NaCl + NaClO3\n"
          ]
        }
      ]
    },
    {
      "cell_type": "markdown",
      "source": [
        "Here we'll create list matrixes, where matrix A contains number of atoms from mol1-mol n with positive amounts and Mol1-Mol(N-1) with negative ones. Basicaly, we transfered all of the molecules, exept for the very last one to the left and created a matrix A with the left side and matrix B with the right."
      ],
      "metadata": {
        "id": "a3T_SdXCTLzi"
      }
    },
    {
      "cell_type": "code",
      "source": [
        "import numpy as np\n",
        "left_dict, right_dict=[atoms_from_str(i) for i in left_side], [atoms_from_str(i) for i in right_side]\n",
        "atoms_names = []\n",
        "for i in right_dict:\n",
        "  atoms_names+=i.keys()\n",
        "atoms_names=tuple(set(atoms_names))\n",
        "all_dict = left_dict+[{a: (-b) for a,b in i.items()} for i in right_dict]\n",
        "matrixA = [[j.get(i,0) for j in all_dict[:-1]] for i in atoms_names]\n",
        "matrixB = [-all_dict[-1].get(i,0) for i in atoms_names]"
      ],
      "metadata": {
        "id": "LtlbUCb1lT67"
      },
      "execution_count": 158,
      "outputs": []
    },
    {
      "cell_type": "markdown",
      "source": [
        "Lets solve this system of equations keeping in mind that the coef. by the last molecule is 1. Afterwards, we will multiply all of the numbers till every single one of them is an integer. We'll find the solutions with numpy's lstsq function that finds the least-squares solution that we need. Then we will use fractions to find least common multiple (from maths) for the denominators if needed."
      ],
      "metadata": {
        "id": "AjG8HhYvv85v"
      }
    },
    {
      "cell_type": "code",
      "source": [
        "from math import lcm\n",
        "from functools import reduce\n",
        "from fractions import Fraction"
      ],
      "metadata": {
        "id": "YzRddKLfySgW"
      },
      "execution_count": 159,
      "outputs": []
    },
    {
      "cell_type": "code",
      "source": [
        "A = np.array(matrixA)\n",
        "B = np.array(matrixB)\n",
        "answer = np.linalg.lstsq(A,B)[0]\n",
        "\n",
        "answer = list(map(lambda s: Fraction(s).limit_denominator(1000),answer))\n",
        "answer_denom = [a.denominator for a in answer]\n",
        "coef = 1\n",
        "\n",
        "if not all(map(lambda k: k.denominator==1, answer)):\n",
        "    coef = reduce(lcm, answer_denom)\n",
        "answer = [int(f.numerator * coef / f.denominator) for f in answer+[1]]"
      ],
      "metadata": {
        "id": "jXjT-tG4s7wX"
      },
      "execution_count": 160,
      "outputs": []
    },
    {
      "cell_type": "code",
      "source": [
        "end_coef = dict(zip(left_side+right_side,answer))\n",
        "print(*[str(end_coef[i])+' '+i for i in left_side], sep=' + ', end=' ')\n",
        "print('=', end=' ')\n",
        "print(*[str(end_coef[i])+' '+i for i in right_side], sep=' + ')"
      ],
      "metadata": {
        "colab": {
          "base_uri": "https://localhost:8080/"
        },
        "id": "oq2nm6J12X4n",
        "outputId": "2a50f6e5-9ad4-43a3-955a-829223f6e978"
      },
      "execution_count": 161,
      "outputs": [
        {
          "output_type": "stream",
          "name": "stdout",
          "text": [
            "3 Cl2 + 6 NaOH = 3 H2O + 5 NaCl + 1 NaClO3\n"
          ]
        }
      ]
    },
    {
      "cell_type": "markdown",
      "source": [
        "# Project 3."
      ],
      "metadata": {
        "id": "9YGbpbQkU0m3"
      }
    },
    {
      "cell_type": "markdown",
      "source": [
        "\n",
        "\n",
        "---\n",
        "3D molecular modeling\n"
      ],
      "metadata": {
        "id": "lKYBhmdUUvXQ"
      }
    },
    {
      "cell_type": "code",
      "source": [
        "pip install py3Dmol"
      ],
      "metadata": {
        "colab": {
          "base_uri": "https://localhost:8080/"
        },
        "collapsed": true,
        "id": "fDlk74UIWq1l",
        "outputId": "503915f3-ee0b-4ab9-fdb0-07d81c828b7e"
      },
      "execution_count": 136,
      "outputs": [
        {
          "output_type": "stream",
          "name": "stdout",
          "text": [
            "Requirement already satisfied: py3Dmol in /usr/local/lib/python3.12/dist-packages (2.5.2)\n"
          ]
        }
      ]
    },
    {
      "cell_type": "code",
      "source": [
        "pip install rdkit"
      ],
      "metadata": {
        "collapsed": true,
        "colab": {
          "base_uri": "https://localhost:8080/"
        },
        "id": "HIGmQlroXyxf",
        "outputId": "6eeccbc1-c54e-40b8-85d5-769adda85d0f"
      },
      "execution_count": 137,
      "outputs": [
        {
          "output_type": "stream",
          "name": "stdout",
          "text": [
            "Requirement already satisfied: rdkit in /usr/local/lib/python3.12/dist-packages (2025.3.6)\n",
            "Requirement already satisfied: numpy in /usr/local/lib/python3.12/dist-packages (from rdkit) (2.0.2)\n",
            "Requirement already satisfied: Pillow in /usr/local/lib/python3.12/dist-packages (from rdkit) (11.3.0)\n"
          ]
        }
      ]
    },
    {
      "cell_type": "code",
      "source": [
        "import py3Dmol\n",
        "from rdkit import Chem\n",
        "from rdkit.Chem import AllChem"
      ],
      "metadata": {
        "id": "TzWKx34gXAu1"
      },
      "execution_count": 138,
      "outputs": []
    },
    {
      "cell_type": "code",
      "source": [
        "mol = Chem.MolFromSmiles(input(\"Input SMILES formula:\"))\n",
        "view = py3Dmol.view()\n",
        "mol = Chem.AddHs(mol, addCoords=True)\n",
        "Chem.AllChem.EmbedMolecule(mol, Chem.AllChem.ETKDG())\n",
        "Chem.AllChem.UFFOptimizeMolecule(mol)\n",
        "mol = Chem.MolToMolBlock(mol)\n",
        "view.addModel(mol)\n",
        "view.setStyle({'stick' : {'colorscheme' : 'greyCarbon'}}, viewer=(0,0))\n",
        "view.render()"
      ],
      "metadata": {
        "colab": {
          "base_uri": "https://localhost:8080/",
          "height": 532
        },
        "collapsed": true,
        "id": "Vr88GuXoWep0",
        "outputId": "288ee726-3cd0-4d21-8a8b-d57411a3c6b6"
      },
      "execution_count": 139,
      "outputs": [
        {
          "name": "stdout",
          "output_type": "stream",
          "text": [
            "Input SMILES formula:C1CC2=C3C(=CC=C2)C(=CN3C1)[C@H]4[C@@H](C(=O)NC4=O)C5=CNC6=CC=CC=C65\n"
          ]
        },
        {
          "output_type": "display_data",
          "data": {
            "application/3dmoljs_load.v0": "<div id=\"3dmolviewer_175728458597326\"  style=\"position: relative; width: 640px; height: 480px;\">\n        <p id=\"3dmolwarning_175728458597326\" style=\"background-color:#ffcccc;color:black\">3Dmol.js failed to load for some reason.  Please check your browser console for error messages.<br></p>\n        </div>\n<script>\n\nvar loadScriptAsync = function(uri){\n  return new Promise((resolve, reject) => {\n    //this is to ignore the existence of requirejs amd\n    var savedexports, savedmodule;\n    if (typeof exports !== 'undefined') savedexports = exports;\n    else exports = {}\n    if (typeof module !== 'undefined') savedmodule = module;\n    else module = {}\n\n    var tag = document.createElement('script');\n    tag.src = uri;\n    tag.async = true;\n    tag.onload = () => {\n        exports = savedexports;\n        module = savedmodule;\n        resolve();\n    };\n  var firstScriptTag = document.getElementsByTagName('script')[0];\n  firstScriptTag.parentNode.insertBefore(tag, firstScriptTag);\n});\n};\n\nif(typeof $3Dmolpromise === 'undefined') {\n$3Dmolpromise = null;\n  $3Dmolpromise = loadScriptAsync('https://cdn.jsdelivr.net/npm/3dmol@2.5.2/build/3Dmol-min.js');\n}\n\nvar viewer_175728458597326 = null;\nvar warn = document.getElementById(\"3dmolwarning_175728458597326\");\nif(warn) {\n    warn.parentNode.removeChild(warn);\n}\n$3Dmolpromise.then(function() {\nviewer_175728458597326 = $3Dmol.createViewer(document.getElementById(\"3dmolviewer_175728458597326\"),{backgroundColor:\"white\"});\nviewer_175728458597326.zoomTo();\n\tviewer_175728458597326.addModel(\"\\n     RDKit          3D\\n\\n 47 52  0  0  0  0  0  0  0  0999 V2000\\n   -3.7913    2.8028    0.9023 C   0  0  0  0  0  0  0  0  0  0  0  0\\n   -3.9183    1.7456    2.0307 C   0  0  0  0  0  0  0  0  0  0  0  0\\n   -3.3808    0.4034    1.5979 C   0  0  0  0  0  0  0  0  0  0  0  0\\n   -2.4327    0.3673    0.5900 C   0  0  0  0  0  0  0  0  0  0  0  0\\n   -1.8089   -0.7754    0.1865 C   0  0  0  0  0  0  0  0  0  0  0  0\\n   -2.0996   -2.0007    0.7915 C   0  0  0  0  0  0  0  0  0  0  0  0\\n   -3.0628   -2.0122    1.8240 C   0  0  0  0  0  0  0  0  0  0  0  0\\n   -3.6967   -0.8131    2.2344 C   0  0  0  0  0  0  0  0  0  0  0  0\\n   -0.8964   -0.3930   -0.7918 C   0  0  0  0  0  0  0  0  0  0  0  0\\n   -1.0198    0.9963   -0.9056 C   0  0  0  0  0  0  0  0  0  0  0  0\\n   -1.9842    1.4380   -0.0678 N   0  0  0  0  0  0  0  0  0  0  0  0\\n   -2.3885    2.8071    0.2470 C   0  0  0  0  0  0  0  0  0  0  0  0\\n    0.1413   -1.2367   -1.4844 C   0  0  1  0  0  0  0  0  0  0  0  0\\n    1.2184   -1.7655   -0.4955 C   0  0  1  0  0  0  0  0  0  0  0  0\\n    1.2056   -3.2462   -0.7255 C   0  0  0  0  0  0  0  0  0  0  0  0\\n    1.9625   -4.0592   -0.1316 O   0  0  0  0  0  0  0  0  0  0  0  0\\n    0.2146   -3.6603   -1.6442 N   0  0  0  0  0  0  0  0  0  0  0  0\\n   -0.4389   -2.4836   -2.0748 C   0  0  0  0  0  0  0  0  0  0  0  0\\n   -1.3883   -2.4979   -2.9022 O   0  0  0  0  0  0  0  0  0  0  0  0\\n    2.5644   -1.1433   -0.7633 C   0  0  0  0  0  0  0  0  0  0  0  0\\n    3.5330   -1.5638   -1.6751 C   0  0  0  0  0  0  0  0  0  0  0  0\\n    4.5508   -0.6748   -1.7282 N   0  0  0  0  0  0  0  0  0  0  0  0\\n    4.2250    0.3144   -0.8787 C   0  0  0  0  0  0  0  0  0  0  0  0\\n    4.9459    1.4801   -0.6229 C   0  0  0  0  0  0  0  0  0  0  0  0\\n    4.3938    2.4109    0.2763 C   0  0  0  0  0  0  0  0  0  0  0  0\\n    3.1444    2.1621    0.8866 C   0  0  0  0  0  0  0  0  0  0  0  0\\n    2.4378    0.9785    0.6071 C   0  0  0  0  0  0  0  0  0  0  0  0\\n    3.0163    0.0691   -0.2796 C   0  0  0  0  0  0  0  0  0  0  0  0\\n   -4.0133    3.8117    1.3113 H   0  0  0  0  0  0  0  0  0  0  0  0\\n   -4.5484    2.5798    0.1188 H   0  0  0  0  0  0  0  0  0  0  0  0\\n   -3.3433    2.0879    2.9176 H   0  0  0  0  0  0  0  0  0  0  0  0\\n   -4.9860    1.6482    2.3227 H   0  0  0  0  0  0  0  0  0  0  0  0\\n   -1.5984   -2.9116    0.4952 H   0  0  0  0  0  0  0  0  0  0  0  0\\n   -3.3065   -2.9434    2.3183 H   0  0  0  0  0  0  0  0  0  0  0  0\\n   -4.4130   -0.8337    3.0457 H   0  0  0  0  0  0  0  0  0  0  0  0\\n   -0.4161    1.6392   -1.5333 H   0  0  0  0  0  0  0  0  0  0  0  0\\n   -1.6516    3.2509    0.9505 H   0  0  0  0  0  0  0  0  0  0  0  0\\n   -2.4103    3.4180   -0.6810 H   0  0  0  0  0  0  0  0  0  0  0  0\\n    0.6017   -0.6521   -2.3127 H   0  0  0  0  0  0  0  0  0  0  0  0\\n    0.9328   -1.5836    0.5641 H   0  0  0  0  0  0  0  0  0  0  0  0\\n   -0.0036   -4.6399   -1.9320 H   0  0  0  0  0  0  0  0  0  0  0  0\\n    3.4839   -2.4579   -2.2829 H   0  0  0  0  0  0  0  0  0  0  0  0\\n    5.4010   -0.7337   -2.3316 H   0  0  0  0  0  0  0  0  0  0  0  0\\n    5.8963    1.6680   -1.1055 H   0  0  0  0  0  0  0  0  0  0  0  0\\n    4.9269    3.3266    0.4963 H   0  0  0  0  0  0  0  0  0  0  0  0\\n    2.7258    2.8885    1.5710 H   0  0  0  0  0  0  0  0  0  0  0  0\\n    1.4759    0.7871    1.0648 H   0  0  0  0  0  0  0  0  0  0  0  0\\n  1  2  1  0\\n  2  3  1  0\\n  3  4  2  0\\n  4  5  1  0\\n  5  6  2  0\\n  6  7  1  0\\n  7  8  2  0\\n  5  9  1  0\\n  9 10  2  0\\n 10 11  1  0\\n 11 12  1  0\\n  9 13  1  0\\n 13 14  1  0\\n 14 15  1  0\\n 15 16  2  0\\n 15 17  1  0\\n 17 18  1  0\\n 18 19  2  0\\n 14 20  1  0\\n 20 21  2  0\\n 21 22  1  0\\n 22 23  1  0\\n 23 24  2  0\\n 24 25  1  0\\n 25 26  2  0\\n 26 27  1  0\\n 27 28  2  0\\n 12  1  1  0\\n  8  3  1  0\\n 11  4  1  0\\n 18 13  1  0\\n 28 20  1  0\\n 28 23  1  0\\n  1 29  1  0\\n  1 30  1  0\\n  2 31  1  0\\n  2 32  1  0\\n  6 33  1  0\\n  7 34  1  0\\n  8 35  1  0\\n 10 36  1  0\\n 12 37  1  0\\n 12 38  1  0\\n 13 39  1  6\\n 14 40  1  1\\n 17 41  1  0\\n 21 42  1  0\\n 22 43  1  0\\n 24 44  1  0\\n 25 45  1  0\\n 26 46  1  0\\n 27 47  1  0\\nM  END\\n\");\n\tviewer_175728458597326.setStyle({\"stick\": {\"colorscheme\": \"greyCarbon\"}});\n\tviewer_175728458597326.render();\nviewer_175728458597326.render();\n});\n</script>",
            "text/html": [
              "<div id=\"3dmolviewer_175728458597326\"  style=\"position: relative; width: 640px; height: 480px;\">\n",
              "        <p id=\"3dmolwarning_175728458597326\" style=\"background-color:#ffcccc;color:black\">3Dmol.js failed to load for some reason.  Please check your browser console for error messages.<br></p>\n",
              "        </div>\n",
              "<script>\n",
              "\n",
              "var loadScriptAsync = function(uri){\n",
              "  return new Promise((resolve, reject) => {\n",
              "    //this is to ignore the existence of requirejs amd\n",
              "    var savedexports, savedmodule;\n",
              "    if (typeof exports !== 'undefined') savedexports = exports;\n",
              "    else exports = {}\n",
              "    if (typeof module !== 'undefined') savedmodule = module;\n",
              "    else module = {}\n",
              "\n",
              "    var tag = document.createElement('script');\n",
              "    tag.src = uri;\n",
              "    tag.async = true;\n",
              "    tag.onload = () => {\n",
              "        exports = savedexports;\n",
              "        module = savedmodule;\n",
              "        resolve();\n",
              "    };\n",
              "  var firstScriptTag = document.getElementsByTagName('script')[0];\n",
              "  firstScriptTag.parentNode.insertBefore(tag, firstScriptTag);\n",
              "});\n",
              "};\n",
              "\n",
              "if(typeof $3Dmolpromise === 'undefined') {\n",
              "$3Dmolpromise = null;\n",
              "  $3Dmolpromise = loadScriptAsync('https://cdn.jsdelivr.net/npm/3dmol@2.5.2/build/3Dmol-min.js');\n",
              "}\n",
              "\n",
              "var viewer_175728458597326 = null;\n",
              "var warn = document.getElementById(\"3dmolwarning_175728458597326\");\n",
              "if(warn) {\n",
              "    warn.parentNode.removeChild(warn);\n",
              "}\n",
              "$3Dmolpromise.then(function() {\n",
              "viewer_175728458597326 = $3Dmol.createViewer(document.getElementById(\"3dmolviewer_175728458597326\"),{backgroundColor:\"white\"});\n",
              "viewer_175728458597326.zoomTo();\n",
              "\tviewer_175728458597326.addModel(\"\\n     RDKit          3D\\n\\n 47 52  0  0  0  0  0  0  0  0999 V2000\\n   -3.7913    2.8028    0.9023 C   0  0  0  0  0  0  0  0  0  0  0  0\\n   -3.9183    1.7456    2.0307 C   0  0  0  0  0  0  0  0  0  0  0  0\\n   -3.3808    0.4034    1.5979 C   0  0  0  0  0  0  0  0  0  0  0  0\\n   -2.4327    0.3673    0.5900 C   0  0  0  0  0  0  0  0  0  0  0  0\\n   -1.8089   -0.7754    0.1865 C   0  0  0  0  0  0  0  0  0  0  0  0\\n   -2.0996   -2.0007    0.7915 C   0  0  0  0  0  0  0  0  0  0  0  0\\n   -3.0628   -2.0122    1.8240 C   0  0  0  0  0  0  0  0  0  0  0  0\\n   -3.6967   -0.8131    2.2344 C   0  0  0  0  0  0  0  0  0  0  0  0\\n   -0.8964   -0.3930   -0.7918 C   0  0  0  0  0  0  0  0  0  0  0  0\\n   -1.0198    0.9963   -0.9056 C   0  0  0  0  0  0  0  0  0  0  0  0\\n   -1.9842    1.4380   -0.0678 N   0  0  0  0  0  0  0  0  0  0  0  0\\n   -2.3885    2.8071    0.2470 C   0  0  0  0  0  0  0  0  0  0  0  0\\n    0.1413   -1.2367   -1.4844 C   0  0  1  0  0  0  0  0  0  0  0  0\\n    1.2184   -1.7655   -0.4955 C   0  0  1  0  0  0  0  0  0  0  0  0\\n    1.2056   -3.2462   -0.7255 C   0  0  0  0  0  0  0  0  0  0  0  0\\n    1.9625   -4.0592   -0.1316 O   0  0  0  0  0  0  0  0  0  0  0  0\\n    0.2146   -3.6603   -1.6442 N   0  0  0  0  0  0  0  0  0  0  0  0\\n   -0.4389   -2.4836   -2.0748 C   0  0  0  0  0  0  0  0  0  0  0  0\\n   -1.3883   -2.4979   -2.9022 O   0  0  0  0  0  0  0  0  0  0  0  0\\n    2.5644   -1.1433   -0.7633 C   0  0  0  0  0  0  0  0  0  0  0  0\\n    3.5330   -1.5638   -1.6751 C   0  0  0  0  0  0  0  0  0  0  0  0\\n    4.5508   -0.6748   -1.7282 N   0  0  0  0  0  0  0  0  0  0  0  0\\n    4.2250    0.3144   -0.8787 C   0  0  0  0  0  0  0  0  0  0  0  0\\n    4.9459    1.4801   -0.6229 C   0  0  0  0  0  0  0  0  0  0  0  0\\n    4.3938    2.4109    0.2763 C   0  0  0  0  0  0  0  0  0  0  0  0\\n    3.1444    2.1621    0.8866 C   0  0  0  0  0  0  0  0  0  0  0  0\\n    2.4378    0.9785    0.6071 C   0  0  0  0  0  0  0  0  0  0  0  0\\n    3.0163    0.0691   -0.2796 C   0  0  0  0  0  0  0  0  0  0  0  0\\n   -4.0133    3.8117    1.3113 H   0  0  0  0  0  0  0  0  0  0  0  0\\n   -4.5484    2.5798    0.1188 H   0  0  0  0  0  0  0  0  0  0  0  0\\n   -3.3433    2.0879    2.9176 H   0  0  0  0  0  0  0  0  0  0  0  0\\n   -4.9860    1.6482    2.3227 H   0  0  0  0  0  0  0  0  0  0  0  0\\n   -1.5984   -2.9116    0.4952 H   0  0  0  0  0  0  0  0  0  0  0  0\\n   -3.3065   -2.9434    2.3183 H   0  0  0  0  0  0  0  0  0  0  0  0\\n   -4.4130   -0.8337    3.0457 H   0  0  0  0  0  0  0  0  0  0  0  0\\n   -0.4161    1.6392   -1.5333 H   0  0  0  0  0  0  0  0  0  0  0  0\\n   -1.6516    3.2509    0.9505 H   0  0  0  0  0  0  0  0  0  0  0  0\\n   -2.4103    3.4180   -0.6810 H   0  0  0  0  0  0  0  0  0  0  0  0\\n    0.6017   -0.6521   -2.3127 H   0  0  0  0  0  0  0  0  0  0  0  0\\n    0.9328   -1.5836    0.5641 H   0  0  0  0  0  0  0  0  0  0  0  0\\n   -0.0036   -4.6399   -1.9320 H   0  0  0  0  0  0  0  0  0  0  0  0\\n    3.4839   -2.4579   -2.2829 H   0  0  0  0  0  0  0  0  0  0  0  0\\n    5.4010   -0.7337   -2.3316 H   0  0  0  0  0  0  0  0  0  0  0  0\\n    5.8963    1.6680   -1.1055 H   0  0  0  0  0  0  0  0  0  0  0  0\\n    4.9269    3.3266    0.4963 H   0  0  0  0  0  0  0  0  0  0  0  0\\n    2.7258    2.8885    1.5710 H   0  0  0  0  0  0  0  0  0  0  0  0\\n    1.4759    0.7871    1.0648 H   0  0  0  0  0  0  0  0  0  0  0  0\\n  1  2  1  0\\n  2  3  1  0\\n  3  4  2  0\\n  4  5  1  0\\n  5  6  2  0\\n  6  7  1  0\\n  7  8  2  0\\n  5  9  1  0\\n  9 10  2  0\\n 10 11  1  0\\n 11 12  1  0\\n  9 13  1  0\\n 13 14  1  0\\n 14 15  1  0\\n 15 16  2  0\\n 15 17  1  0\\n 17 18  1  0\\n 18 19  2  0\\n 14 20  1  0\\n 20 21  2  0\\n 21 22  1  0\\n 22 23  1  0\\n 23 24  2  0\\n 24 25  1  0\\n 25 26  2  0\\n 26 27  1  0\\n 27 28  2  0\\n 12  1  1  0\\n  8  3  1  0\\n 11  4  1  0\\n 18 13  1  0\\n 28 20  1  0\\n 28 23  1  0\\n  1 29  1  0\\n  1 30  1  0\\n  2 31  1  0\\n  2 32  1  0\\n  6 33  1  0\\n  7 34  1  0\\n  8 35  1  0\\n 10 36  1  0\\n 12 37  1  0\\n 12 38  1  0\\n 13 39  1  6\\n 14 40  1  1\\n 17 41  1  0\\n 21 42  1  0\\n 22 43  1  0\\n 24 44  1  0\\n 25 45  1  0\\n 26 46  1  0\\n 27 47  1  0\\nM  END\\n\");\n",
              "\tviewer_175728458597326.setStyle({\"stick\": {\"colorscheme\": \"greyCarbon\"}});\n",
              "\tviewer_175728458597326.render();\n",
              "viewer_175728458597326.render();\n",
              "});\n",
              "</script>"
            ]
          },
          "metadata": {}
        },
        {
          "output_type": "execute_result",
          "data": {
            "text/plain": [
              "<py3Dmol.view at 0x7958ab434fe0>"
            ]
          },
          "metadata": {},
          "execution_count": 139
        }
      ]
    },
    {
      "cell_type": "markdown",
      "source": [
        "#Project 4."
      ],
      "metadata": {
        "id": "niu7uUYvunUk"
      }
    },
    {
      "cell_type": "markdown",
      "source": [
        "Display spectral data with local min and max"
      ],
      "metadata": {
        "id": "GhSK0BwcuxpM"
      }
    },
    {
      "cell_type": "code",
      "source": [
        "import matplotlib\n",
        "import seaborn"
      ],
      "metadata": {
        "id": "OaVFjD_zuyS8"
      },
      "execution_count": 145,
      "outputs": []
    },
    {
      "cell_type": "markdown",
      "source": [
        "Creating rondom spectral data to display"
      ],
      "metadata": {
        "id": "unhWAyRk5lcS"
      }
    },
    {
      "cell_type": "code",
      "source": [
        "import pandas as pd\n",
        "import matplotlib.pyplot as plt\n",
        "import numpy as np\n",
        "\n",
        "def create_dummy_spectral_data():\n",
        "    wavelengths = np.arange(200, 800, 10)  # Wavelengths from 200 to 790 nm in steps of 10 nm\n",
        "    absorbance = 0.1 * np.sin(0.02 * wavelengths) + 0.1 * np.random.normal(size=len(wavelengths)) + 0.3\n",
        "    data = {\n",
        "        'Wavelength': wavelengths,\n",
        "        'Absorbance': absorbance\n",
        "    }\n",
        "    return pd.DataFrame(data)\n"
      ],
      "metadata": {
        "id": "0QqMAPpOs2YM"
      },
      "execution_count": 146,
      "outputs": []
    },
    {
      "cell_type": "code",
      "source": [
        "data1 = create_dummy_spectral_data()"
      ],
      "metadata": {
        "collapsed": true,
        "id": "mfl8Zz4u17x9"
      },
      "execution_count": 147,
      "outputs": []
    },
    {
      "source": [
        "#Recomendation from collab\n",
        "from matplotlib import pyplot as plt\n",
        "import seaborn as sns\n",
        "def _plot_series(series, series_name, series_index=0):\n",
        "  palette = list(sns.palettes.mpl_palette('Dark2'))\n",
        "  xs = series['Wavelength']\n",
        "  ys = series['Absorbance']\n",
        "\n",
        "  plt.plot(xs, ys, label=series_name, color=palette[series_index % len(palette)])\n",
        "\n",
        "fig, ax = plt.subplots(figsize=(10, 5.2), layout='constrained')\n",
        "df_sorted = data1\n",
        "_plot_series(df_sorted, '')\n",
        "sns.despine(fig=fig, ax=ax)\n",
        "plt.xlabel('Wavelength')\n",
        "_ = plt.ylabel('Absorbance')"
      ],
      "cell_type": "code",
      "metadata": {
        "colab": {
          "base_uri": "https://localhost:8080/",
          "height": 431
        },
        "id": "u06SyoxH2RxO",
        "outputId": "a618f663-6b2c-498e-c826-fda85edf91a6"
      },
      "execution_count": 148,
      "outputs": [
        {
          "output_type": "display_data",
          "data": {
            "text/plain": [
              "<Figure size 1000x520 with 1 Axes>"
            ],
            "image/png": "[encoded data removed]"
          },
          "metadata": {}
        }
      ]
    },
    {
      "cell_type": "code",
      "source": [
        "x = data1['Wavelength']\n",
        "y = data1['Absorbance']\n",
        "y_max = np.max(y)\n",
        "x_max = x[np.argmax(y)]\n",
        "y_min = np.min(y)\n",
        "x_min = x[np.argmin(y)]\n",
        "# plot\n",
        "fig, ax = plt.subplots(figsize=(10, 5.2), layout='constrained')\n",
        "plt.annotate(\"Maxpoint\",(x_max,y_max),(x_max,y_max+0.1), arrowprops=dict(facecolor='black', shrink=0.001,width=0.5,headwidth=5),\n",
        "            horizontalalignment='center', verticalalignment='bottom')\n",
        "plt.annotate(\"Minpoint\",(x_min,y_min),(x_min+50,y_min), arrowprops=dict(facecolor='black', shrink=0.001,width=0.5,headwidth=5),\n",
        "            horizontalalignment='center', verticalalignment='center')\n",
        "plt.plot(data1['Wavelength'], data1['Absorbance'],color='pink')\n",
        "plt.xlabel(\"Wavelength, nm\")\n",
        "plt.ylabel('Absorbance')\n",
        "ax.set(xlim=(200, 790), ylim=(-0.12, 1))\n"
      ],
      "metadata": {
        "colab": {
          "base_uri": "https://localhost:8080/",
          "height": 448
        },
        "id": "Lin--1Q31RJg",
        "outputId": "f0f3da5f-3375-4891-9fad-cbda77e6363f"
      },
      "execution_count": 149,
      "outputs": [
        {
          "output_type": "execute_result",
          "data": {
            "text/plain": [
              "[(200.0, 790.0), (-0.12, 1.0)]"
            ]
          },
          "metadata": {},
          "execution_count": 149
        },
        {
          "output_type": "display_data",
          "data": {
            "text/plain": [
              "<Figure size 1000x520 with 1 Axes>"
            ],
            "image/png": "[encoded data removed]"
          },
          "metadata": {}
        }
      ]
    },
    {
      "cell_type": "markdown",
      "source": [
        "#Project 5."
      ],
      "metadata": {
        "id": "kQ_Sd1MBHJ8F"
      }
    },
    {
      "cell_type": "markdown",
      "source": [
        "Chemical reactor"
      ],
      "metadata": {
        "id": "6lAsgwjKHORY"
      }
    },
    {
      "cell_type": "code",
      "source": [
        "import pandas as pd"
      ],
      "metadata": {
        "id": "t9-y0AQrLONa"
      },
      "execution_count": null,
      "outputs": []
    },
    {
      "cell_type": "code",
      "source": [
        "def concetration_difference(A,B,k):\n",
        "  dA = -A*k\n",
        "  dB = A*k\n",
        "  return [A+dA,B+dB]\n",
        "\n",
        "def concentration_over_time(A,B,k,t):\n",
        "  concentrations = pd.DataFrame({\"A\":A,\"B\":B}, index=[0])\n",
        "  for i in range(1,(t+1)):\n",
        "    A, B = concetration_difference(A,B,k)\n",
        "    concentrations.loc[i]=[A,B]\n",
        "  return concentrations"
      ],
      "metadata": {
        "id": "1RJB1Z-WHTnx"
      },
      "execution_count": 125,
      "outputs": []
    },
    {
      "cell_type": "code",
      "source": [
        "A_start_concentration = input(\"Add component A:\")\n",
        "B_start_concentration = input(\"Add product B:\")\n",
        "k_rate = input('Enter k:')\n",
        "time = input(\"Enter time of the reaction:\")\n",
        "df = concentration_over_time(A_start_concentration,B_start_concentration,k_rate,time)"
      ],
      "metadata": {
        "colab": {
          "base_uri": "https://localhost:8080/",
          "height": 1000
        },
        "collapsed": true,
        "id": "OHQTZWkGLMiZ",
        "outputId": "214c9a98-9827-4eb7-da2e-4eabfc298d4a"
      },
      "execution_count": 126,
      "outputs": [
        {
          "output_type": "execute_result",
          "data": {
            "text/plain": [
              "           A         B\n",
              "0   1.000000  0.000000\n",
              "1   0.900000  0.100000\n",
              "2   0.810000  0.190000\n",
              "3   0.729000  0.271000\n",
              "4   0.656100  0.343900\n",
              "5   0.590490  0.409510\n",
              "6   0.531441  0.468559\n",
              "7   0.478297  0.521703\n",
              "8   0.430467  0.569533\n",
              "9   0.387420  0.612580\n",
              "10  0.348678  0.651322\n",
              "11  0.313811  0.686189\n",
              "12  0.282430  0.717570\n",
              "13  0.254187  0.745813\n",
              "14  0.228768  0.771232\n",
              "15  0.205891  0.794109\n",
              "16  0.185302  0.814698\n",
              "17  0.166772  0.833228\n",
              "18  0.150095  0.849905\n",
              "19  0.135085  0.864915\n",
              "20  0.121577  0.878423\n",
              "21  0.109419  0.890581\n",
              "22  0.098477  0.901523\n",
              "23  0.088629  0.911371\n",
              "24  0.079766  0.920234\n",
              "25  0.071790  0.928210\n",
              "26  0.064611  0.935389\n",
              "27  0.058150  0.941850\n",
              "28  0.052335  0.947665\n",
              "29  0.047101  0.952899\n",
              "30  0.042391  0.957609\n",
              "31  0.038152  0.961848\n",
              "32  0.034337  0.965663\n",
              "33  0.030903  0.969097\n",
              "34  0.027813  0.972187\n",
              "35  0.025032  0.974968\n",
              "36  0.022528  0.977472\n",
              "37  0.020276  0.979724\n",
              "38  0.018248  0.981752\n",
              "39  0.016423  0.983577\n",
              "40  0.014781  0.985219\n",
              "41  0.013303  0.986697\n",
              "42  0.011973  0.988027\n",
              "43  0.010775  0.989225\n",
              "44  0.009698  0.990302\n",
              "45  0.008728  0.991272\n",
              "46  0.007855  0.992145\n",
              "47  0.007070  0.992930\n",
              "48  0.006363  0.993637\n",
              "49  0.005726  0.994274\n",
              "50  0.005154  0.994846"
            ],
            "text/html": [
              "\n",
              "  <div id=\"df-652f890a-2a8e-4842-8281-4ab1a9fd5687\" class=\"colab-df-container\">\n",
              "    <div>\n",
              "<style scoped>\n",
              "    .dataframe tbody tr th:only-of-type {\n",
              "        vertical-align: middle;\n",
              "    }\n",
              "\n",
              "    .dataframe tbody tr th {\n",
              "        vertical-align: top;\n",
              "    }\n",
              "\n",
              "    .dataframe thead th {\n",
              "        text-align: right;\n",
              "    }\n",
              "</style>\n",
              "<table border=\"1\" class=\"dataframe\">\n",
              "  <thead>\n",
              "    <tr style=\"text-align: right;\">\n",
              "      <th></th>\n",
              "      <th>A</th>\n",
              "      <th>B</th>\n",
              "    </tr>\n",
              "  </thead>\n",
              "  <tbody>\n",
              "    <tr>\n",
              "      <th>0</th>\n",
              "      <td>1.000000</td>\n",
              "      <td>0.000000</td>\n",
              "    </tr>\n",
              "    <tr>\n",
              "      <th>1</th>\n",
              "      <td>0.900000</td>\n",
              "      <td>0.100000</td>\n",
              "    </tr>\n",
              "    <tr>\n",
              "      <th>2</th>\n",
              "      <td>0.810000</td>\n",
              "      <td>0.190000</td>\n",
              "    </tr>\n",
              "    <tr>\n",
              "      <th>3</th>\n",
              "      <td>0.729000</td>\n",
              "      <td>0.271000</td>\n",
              "    </tr>\n",
              "    <tr>\n",
              "      <th>4</th>\n",
              "      <td>0.656100</td>\n",
              "      <td>0.343900</td>\n",
              "    </tr>\n",
              "    <tr>\n",
              "      <th>5</th>\n",
              "      <td>0.590490</td>\n",
              "      <td>0.409510</td>\n",
              "    </tr>\n",
              "    <tr>\n",
              "      <th>6</th>\n",
              "      <td>0.531441</td>\n",
              "      <td>0.468559</td>\n",
              "    </tr>\n",
              "    <tr>\n",
              "      <th>7</th>\n",
              "      <td>0.478297</td>\n",
              "      <td>0.521703</td>\n",
              "    </tr>\n",
              "    <tr>\n",
              "      <th>8</th>\n",
              "      <td>0.430467</td>\n",
              "      <td>0.569533</td>\n",
              "    </tr>\n",
              "    <tr>\n",
              "      <th>9</th>\n",
              "      <td>0.387420</td>\n",
              "      <td>0.612580</td>\n",
              "    </tr>\n",
              "    <tr>\n",
              "      <th>10</th>\n",
              "      <td>0.348678</td>\n",
              "      <td>0.651322</td>\n",
              "    </tr>\n",
              "    <tr>\n",
              "      <th>11</th>\n",
              "      <td>0.313811</td>\n",
              "      <td>0.686189</td>\n",
              "    </tr>\n",
              "    <tr>\n",
              "      <th>12</th>\n",
              "      <td>0.282430</td>\n",
              "      <td>0.717570</td>\n",
              "    </tr>\n",
              "    <tr>\n",
              "      <th>13</th>\n",
              "      <td>0.254187</td>\n",
              "      <td>0.745813</td>\n",
              "    </tr>\n",
              "    <tr>\n",
              "      <th>14</th>\n",
              "      <td>0.228768</td>\n",
              "      <td>0.771232</td>\n",
              "    </tr>\n",
              "    <tr>\n",
              "      <th>15</th>\n",
              "      <td>0.205891</td>\n",
              "      <td>0.794109</td>\n",
              "    </tr>\n",
              "    <tr>\n",
              "      <th>16</th>\n",
              "      <td>0.185302</td>\n",
              "      <td>0.814698</td>\n",
              "    </tr>\n",
              "    <tr>\n",
              "      <th>17</th>\n",
              "      <td>0.166772</td>\n",
              "      <td>0.833228</td>\n",
              "    </tr>\n",
              "    <tr>\n",
              "      <th>18</th>\n",
              "      <td>0.150095</td>\n",
              "      <td>0.849905</td>\n",
              "    </tr>\n",
              "    <tr>\n",
              "      <th>19</th>\n",
              "      <td>0.135085</td>\n",
              "      <td>0.864915</td>\n",
              "    </tr>\n",
              "    <tr>\n",
              "      <th>20</th>\n",
              "      <td>0.121577</td>\n",
              "      <td>0.878423</td>\n",
              "    </tr>\n",
              "    <tr>\n",
              "      <th>21</th>\n",
              "      <td>0.109419</td>\n",
              "      <td>0.890581</td>\n",
              "    </tr>\n",
              "    <tr>\n",
              "      <th>22</th>\n",
              "      <td>0.098477</td>\n",
              "      <td>0.901523</td>\n",
              "    </tr>\n",
              "    <tr>\n",
              "      <th>23</th>\n",
              "      <td>0.088629</td>\n",
              "      <td>0.911371</td>\n",
              "    </tr>\n",
              "    <tr>\n",
              "      <th>24</th>\n",
              "      <td>0.079766</td>\n",
              "      <td>0.920234</td>\n",
              "    </tr>\n",
              "    <tr>\n",
              "      <th>25</th>\n",
              "      <td>0.071790</td>\n",
              "      <td>0.928210</td>\n",
              "    </tr>\n",
              "    <tr>\n",
              "      <th>26</th>\n",
              "      <td>0.064611</td>\n",
              "      <td>0.935389</td>\n",
              "    </tr>\n",
              "    <tr>\n",
              "      <th>27</th>\n",
              "      <td>0.058150</td>\n",
              "      <td>0.941850</td>\n",
              "    </tr>\n",
              "    <tr>\n",
              "      <th>28</th>\n",
              "      <td>0.052335</td>\n",
              "      <td>0.947665</td>\n",
              "    </tr>\n",
              "    <tr>\n",
              "      <th>29</th>\n",
              "      <td>0.047101</td>\n",
              "      <td>0.952899</td>\n",
              "    </tr>\n",
              "    <tr>\n",
              "      <th>30</th>\n",
              "      <td>0.042391</td>\n",
              "      <td>0.957609</td>\n",
              "    </tr>\n",
              "    <tr>\n",
              "      <th>31</th>\n",
              "      <td>0.038152</td>\n",
              "      <td>0.961848</td>\n",
              "    </tr>\n",
              "    <tr>\n",
              "      <th>32</th>\n",
              "      <td>0.034337</td>\n",
              "      <td>0.965663</td>\n",
              "    </tr>\n",
              "    <tr>\n",
              "      <th>33</th>\n",
              "      <td>0.030903</td>\n",
              "      <td>0.969097</td>\n",
              "    </tr>\n",
              "    <tr>\n",
              "      <th>34</th>\n",
              "      <td>0.027813</td>\n",
              "      <td>0.972187</td>\n",
              "    </tr>\n",
              "    <tr>\n",
              "      <th>35</th>\n",
              "      <td>0.025032</td>\n",
              "      <td>0.974968</td>\n",
              "    </tr>\n",
              "    <tr>\n",
              "      <th>36</th>\n",
              "      <td>0.022528</td>\n",
              "      <td>0.977472</td>\n",
              "    </tr>\n",
              "    <tr>\n",
              "      <th>37</th>\n",
              "      <td>0.020276</td>\n",
              "      <td>0.979724</td>\n",
              "    </tr>\n",
              "    <tr>\n",
              "      <th>38</th>\n",
              "      <td>0.018248</td>\n",
              "      <td>0.981752</td>\n",
              "    </tr>\n",
              "    <tr>\n",
              "      <th>39</th>\n",
              "      <td>0.016423</td>\n",
              "      <td>0.983577</td>\n",
              "    </tr>\n",
              "    <tr>\n",
              "      <th>40</th>\n",
              "      <td>0.014781</td>\n",
              "      <td>0.985219</td>\n",
              "    </tr>\n",
              "    <tr>\n",
              "      <th>41</th>\n",
              "      <td>0.013303</td>\n",
              "      <td>0.986697</td>\n",
              "    </tr>\n",
              "    <tr>\n",
              "      <th>42</th>\n",
              "      <td>0.011973</td>\n",
              "      <td>0.988027</td>\n",
              "    </tr>\n",
              "    <tr>\n",
              "      <th>43</th>\n",
              "      <td>0.010775</td>\n",
              "      <td>0.989225</td>\n",
              "    </tr>\n",
              "    <tr>\n",
              "      <th>44</th>\n",
              "      <td>0.009698</td>\n",
              "      <td>0.990302</td>\n",
              "    </tr>\n",
              "    <tr>\n",
              "      <th>45</th>\n",
              "      <td>0.008728</td>\n",
              "      <td>0.991272</td>\n",
              "    </tr>\n",
              "    <tr>\n",
              "      <th>46</th>\n",
              "      <td>0.007855</td>\n",
              "      <td>0.992145</td>\n",
              "    </tr>\n",
              "    <tr>\n",
              "      <th>47</th>\n",
              "      <td>0.007070</td>\n",
              "      <td>0.992930</td>\n",
              "    </tr>\n",
              "    <tr>\n",
              "      <th>48</th>\n",
              "      <td>0.006363</td>\n",
              "      <td>0.993637</td>\n",
              "    </tr>\n",
              "    <tr>\n",
              "      <th>49</th>\n",
              "      <td>0.005726</td>\n",
              "      <td>0.994274</td>\n",
              "    </tr>\n",
              "    <tr>\n",
              "      <th>50</th>\n",
              "      <td>0.005154</td>\n",
              "      <td>0.994846</td>\n",
              "    </tr>\n",
              "  </tbody>\n",
              "</table>\n",
              "</div>\n",
              "    <div class=\"colab-df-buttons\">\n",
              "\n",
              "  <div class=\"colab-df-container\">\n",
              "    <button class=\"colab-df-convert\" onclick=\"convertToInteractive('df-652f890a-2a8e-4842-8281-4ab1a9fd5687')\"\n",
              "            title=\"Convert this dataframe to an interactive table.\"\n",
              "            style=\"display:none;\">\n",
              "\n",
              "  <svg xmlns=\"http://www.w3.org/2000/svg\" height=\"24px\" viewBox=\"0 -960 960 960\">\n",
              "    <path d=\"M120-120v-720h720v720H120Zm60-500h600v-160H180v160Zm220 220h160v-160H400v160Zm0 220h160v-160H400v160ZM180-400h160v-160H180v160Zm440 0h160v-160H620v160ZM180-180h160v-160H180v160Zm440 0h160v-160H620v160Z\"/>\n",
              "  </svg>\n",
              "    </button>\n",
              "\n",
              "  <style>\n",
              "    .colab-df-container {\n",
              "      display:flex;\n",
              "      gap: 12px;\n",
              "    }\n",
              "\n",
              "    .colab-df-convert {\n",
              "      background-color: #E8F0FE;\n",
              "      border: none;\n",
              "      border-radius: 50%;\n",
              "      cursor: pointer;\n",
              "      display: none;\n",
              "      fill: #1967D2;\n",
              "      height: 32px;\n",
              "      padding: 0 0 0 0;\n",
              "      width: 32px;\n",
              "    }\n",
              "\n",
              "    .colab-df-convert:hover {\n",
              "      background-color: #E2EBFA;\n",
              "      box-shadow: 0px 1px 2px rgba(60, 64, 67, 0.3), 0px 1px 3px 1px rgba(60, 64, 67, 0.15);\n",
              "      fill: #174EA6;\n",
              "    }\n",
              "\n",
              "    .colab-df-buttons div {\n",
              "      margin-bottom: 4px;\n",
              "    }\n",
              "\n",
              "    [theme=dark] .colab-df-convert {\n",
              "      background-color: #3B4455;\n",
              "      fill: #D2E3FC;\n",
              "    }\n",
              "\n",
              "    [theme=dark] .colab-df-convert:hover {\n",
              "      background-color: #434B5C;\n",
              "      box-shadow: 0px 1px 3px 1px rgba(0, 0, 0, 0.15);\n",
              "      filter: drop-shadow(0px 1px 2px rgba(0, 0, 0, 0.3));\n",
              "      fill: #FFFFFF;\n",
              "    }\n",
              "  </style>\n",
              "\n",
              "    <script>\n",
              "      const buttonEl =\n",
              "        document.querySelector('#df-652f890a-2a8e-4842-8281-4ab1a9fd5687 button.colab-df-convert');\n",
              "      buttonEl.style.display =\n",
              "        google.colab.kernel.accessAllowed ? 'block' : 'none';\n",
              "\n",
              "      async function convertToInteractive(key) {\n",
              "        const element = document.querySelector('#df-652f890a-2a8e-4842-8281-4ab1a9fd5687');\n",
              "        const dataTable =\n",
              "          await google.colab.kernel.invokeFunction('convertToInteractive',\n",
              "                                                    [key], {});\n",
              "        if (!dataTable) return;\n",
              "\n",
              "        const docLinkHtml = 'Like what you see? Visit the ' +\n",
              "          '<a target=\"_blank\" href=https://colab.research.google.com/notebooks/data_table.ipynb>data table notebook</a>'\n",
              "          + ' to learn more about interactive tables.';\n",
              "        element.innerHTML = '';\n",
              "        dataTable['output_type'] = 'display_data';\n",
              "        await google.colab.output.renderOutput(dataTable, element);\n",
              "        const docLink = document.createElement('div');\n",
              "        docLink.innerHTML = docLinkHtml;\n",
              "        element.appendChild(docLink);\n",
              "      }\n",
              "    </script>\n",
              "  </div>\n",
              "\n",
              "\n",
              "    <div id=\"df-3b509f2f-7d4c-413f-a542-59919c6ce93b\">\n",
              "      <button class=\"colab-df-quickchart\" onclick=\"quickchart('df-3b509f2f-7d4c-413f-a542-59919c6ce93b')\"\n",
              "                title=\"Suggest charts\"\n",
              "                style=\"display:none;\">\n",
              "\n",
              "<svg xmlns=\"http://www.w3.org/2000/svg\" height=\"24px\"viewBox=\"0 0 24 24\"\n",
              "     width=\"24px\">\n",
              "    <g>\n",
              "        <path d=\"M19 3H5c-1.1 0-2 .9-2 2v14c0 1.1.9 2 2 2h14c1.1 0 2-.9 2-2V5c0-1.1-.9-2-2-2zM9 17H7v-7h2v7zm4 0h-2V7h2v10zm4 0h-2v-4h2v4z\"/>\n",
              "    </g>\n",
              "</svg>\n",
              "      </button>\n",
              "\n",
              "<style>\n",
              "  .colab-df-quickchart {\n",
              "      --bg-color: #E8F0FE;\n",
              "      --fill-color: #1967D2;\n",
              "      --hover-bg-color: #E2EBFA;\n",
              "      --hover-fill-color: #174EA6;\n",
              "      --disabled-fill-color: #AAA;\n",
              "      --disabled-bg-color: #DDD;\n",
              "  }\n",
              "\n",
              "  [theme=dark] .colab-df-quickchart {\n",
              "      --bg-color: #3B4455;\n",
              "      --fill-color: #D2E3FC;\n",
              "      --hover-bg-color: #434B5C;\n",
              "      --hover-fill-color: #FFFFFF;\n",
              "      --disabled-bg-color: #3B4455;\n",
              "      --disabled-fill-color: #666;\n",
              "  }\n",
              "\n",
              "  .colab-df-quickchart {\n",
              "    background-color: var(--bg-color);\n",
              "    border: none;\n",
              "    border-radius: 50%;\n",
              "    cursor: pointer;\n",
              "    display: none;\n",
              "    fill: var(--fill-color);\n",
              "    height: 32px;\n",
              "    padding: 0;\n",
              "    width: 32px;\n",
              "  }\n",
              "\n",
              "  .colab-df-quickchart:hover {\n",
              "    background-color: var(--hover-bg-color);\n",
              "    box-shadow: 0 1px 2px rgba(60, 64, 67, 0.3), 0 1px 3px 1px rgba(60, 64, 67, 0.15);\n",
              "    fill: var(--button-hover-fill-color);\n",
              "  }\n",
              "\n",
              "  .colab-df-quickchart-complete:disabled,\n",
              "  .colab-df-quickchart-complete:disabled:hover {\n",
              "    background-color: var(--disabled-bg-color);\n",
              "    fill: var(--disabled-fill-color);\n",
              "    box-shadow: none;\n",
              "  }\n",
              "\n",
              "  .colab-df-spinner {\n",
              "    border: 2px solid var(--fill-color);\n",
              "    border-color: transparent;\n",
              "    border-bottom-color: var(--fill-color);\n",
              "    animation:\n",
              "      spin 1s steps(1) infinite;\n",
              "  }\n",
              "\n",
              "  @keyframes spin {\n",
              "    0% {\n",
              "      border-color: transparent;\n",
              "      border-bottom-color: var(--fill-color);\n",
              "      border-left-color: var(--fill-color);\n",
              "    }\n",
              "    20% {\n",
              "      border-color: transparent;\n",
              "      border-left-color: var(--fill-color);\n",
              "      border-top-color: var(--fill-color);\n",
              "    }\n",
              "    30% {\n",
              "      border-color: transparent;\n",
              "      border-left-color: var(--fill-color);\n",
              "      border-top-color: var(--fill-color);\n",
              "      border-right-color: var(--fill-color);\n",
              "    }\n",
              "    40% {\n",
              "      border-color: transparent;\n",
              "      border-right-color: var(--fill-color);\n",
              "      border-top-color: var(--fill-color);\n",
              "    }\n",
              "    60% {\n",
              "      border-color: transparent;\n",
              "      border-right-color: var(--fill-color);\n",
              "    }\n",
              "    80% {\n",
              "      border-color: transparent;\n",
              "      border-right-color: var(--fill-color);\n",
              "      border-bottom-color: var(--fill-color);\n",
              "    }\n",
              "    90% {\n",
              "      border-color: transparent;\n",
              "      border-bottom-color: var(--fill-color);\n",
              "    }\n",
              "  }\n",
              "</style>\n",
              "\n",
              "      <script>\n",
              "        async function quickchart(key) {\n",
              "          const quickchartButtonEl =\n",
              "            document.querySelector('#' + key + ' button');\n",
              "          quickchartButtonEl.disabled = true;  // To prevent multiple clicks.\n",
              "          quickchartButtonEl.classList.add('colab-df-spinner');\n",
              "          try {\n",
              "            const charts = await google.colab.kernel.invokeFunction(\n",
              "                'suggestCharts', [key], {});\n",
              "          } catch (error) {\n",
              "            console.error('Error during call to suggestCharts:', error);\n",
              "          }\n",
              "          quickchartButtonEl.classList.remove('colab-df-spinner');\n",
              "          quickchartButtonEl.classList.add('colab-df-quickchart-complete');\n",
              "        }\n",
              "        (() => {\n",
              "          let quickchartButtonEl =\n",
              "            document.querySelector('#df-3b509f2f-7d4c-413f-a542-59919c6ce93b button');\n",
              "          quickchartButtonEl.style.display =\n",
              "            google.colab.kernel.accessAllowed ? 'block' : 'none';\n",
              "        })();\n",
              "      </script>\n",
              "    </div>\n",
              "    </div>\n",
              "  </div>\n"
            ],
            "application/vnd.google.colaboratory.intrinsic+json": {
              "type": "dataframe",
              "variable_name": "df",
              "summary": "{\n  \"name\": \"df\",\n  \"rows\": 51,\n  \"fields\": [\n    {\n      \"column\": \"A\",\n      \"properties\": {\n        \"dtype\": \"number\",\n        \"std\": 0.2576978057598543,\n        \"min\": 0.005153775207320112,\n        \"max\": 1.0,\n        \"num_unique_values\": 51,\n        \"samples\": [\n          0.010775263664305815,\n          0.014780882941434589,\n          0.00785516721127894\n        ],\n        \"semantic_type\": \"\",\n        \"description\": \"\"\n      }\n    },\n    {\n      \"column\": \"B\",\n      \"properties\": {\n        \"dtype\": \"number\",\n        \"std\": 0.25769780575985435,\n        \"min\": 0.0,\n        \"max\": 0.99484622479268,\n        \"num_unique_values\": 51,\n        \"samples\": [\n          0.9892247363356942,\n          0.9852191170585655,\n          0.9921448327887211\n        ],\n        \"semantic_type\": \"\",\n        \"description\": \"\"\n      }\n    }\n  ]\n}"
            }
          },
          "metadata": {},
          "execution_count": 126
        }
      ]
    },
    {
      "source": [
        "from matplotlib import pyplot as plt\n",
        "df['A'].plot(kind='line', figsize=(8, 4))\n",
        "plt.gca().spines[['top', 'right']].set_visible(False)\n",
        "df['B'].plot(kind='line', figsize=(8, 4),color = 'red')\n",
        "plt.xlabel('time (s)')\n",
        "plt.ylabel('concentration')"
      ],
      "cell_type": "code",
      "metadata": {
        "colab": {
          "base_uri": "https://localhost:8080/",
          "height": 484
        },
        "id": "XC5EuvcmPvco",
        "outputId": "80de41d4-5910-43b1-e606-7d9874663943"
      },
      "execution_count": 135,
      "outputs": [
        {
          "output_type": "execute_result",
          "data": {
            "text/plain": [
              "Text(0, 0.5, 'concentration')"
            ]
          },
          "metadata": {},
          "execution_count": 135
        },
        {
          "output_type": "display_data",
          "data": {
            "text/plain": [
              "<Figure size 800x400 with 1 Axes>"
            ],
            "image/png": "[encoded data removed]"
          },
          "metadata": {}
        }
      ]
    }
  ]
}